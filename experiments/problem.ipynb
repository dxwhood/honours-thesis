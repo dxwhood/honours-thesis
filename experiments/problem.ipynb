{
 "cells": [
  {
   "cell_type": "markdown",
   "metadata": {},
   "source": [
    "00000001\n",
    "11110000\n",
    "\n"
   ]
  },
  {
   "cell_type": "markdown",
   "metadata": {},
   "source": [
    "## MinAtar Breakout-v1 Environment: Observation Space Overview\n",
    "\n",
    "### Observation Space\n",
    "- In the MinAtar Breakout-v1 environment, we're dealing with a `10x10x4` observation space.\n",
    "- This represents a grid where each cell can contain parts of the game (like the ball, paddle, or bricks).\n",
    "- The `4` refers to different layers or \"channels\" for various game elements.\n",
    "\n",
    "### Naive Representation\n",
    "- Initially, I flattened this `10x10x4` space into a single bitstring (extending from the simple integer action/state case).\n",
    "- This resulted in a gigantic number with `2^400` possible states – a massively complex space to navigate and I don't think agent will be able to do that no matter how hard I try so I moved on.\n",
    "\n",
    "### My Implementation: Grid Structure\n",
    "- To simplify and, I retain the grid structure of the observation space.\n",
    "- Each `10x10x4` grid is transformed into a continuous space by converting 0's to -1.0 and 1's to 1.0. This turns the data into analog bits.\n",
    "- This approach preserves spatial locality and relationships within the game, hopefully helping in pattern recognition and decision-making for the model."
   ]
  },
  {
   "cell_type": "markdown",
   "metadata": {},
   "source": [
    "### Transformations code"
   ]
  },
  {
   "cell_type": "code",
   "execution_count": 1,
   "metadata": {},
   "outputs": [],
   "source": [
    "import numpy as np\n",
    "\n",
    "def convert_box_to_grid(box_observation):\n",
    "    \"\"\"\n",
    "    Converts a box observation space from a Mini Atari environment \n",
    "    into a binary grid with multiple channels.\n",
    "    \"\"\"\n",
    "    binary_grid = box_observation.astype(int)\n",
    "    return binary_grid\n",
    "\n",
    "def binbox2analog_bit(box_observation):\n",
    "    \"\"\"\n",
    "    Converts the box observation into analog bits.\n",
    "    \"\"\"\n",
    "    box_grid = convert_box_to_grid(box_observation)\n",
    "    analog_bits_grid = (box_grid * 2) - 1\n",
    "    #convert to float for continuity \n",
    "    analog_bits_grid = analog_bits_grid.astype(np.float32)\n",
    "    return analog_bits_grid.reshape(10, 10, 4)"
   ]
  },
  {
   "cell_type": "markdown",
   "metadata": {},
   "source": [
    "### Example Transformation (First 2 rows of the grid)"
   ]
  },
  {
   "cell_type": "code",
   "execution_count": 11,
   "metadata": {},
   "outputs": [
    {
     "name": "stdout",
     "output_type": "stream",
     "text": [
      "Original Box Observation:\n",
      "[[[False False False False]\n",
      "  [False False False False]\n",
      "  [False False False False]\n",
      "  [False False False False]\n",
      "  [False False False False]\n",
      "  [False False False False]\n",
      "  [False False False False]\n",
      "  [False False False False]\n",
      "  [False False False False]\n",
      "  [False False False False]]\n",
      "\n",
      " [[False False False  True]\n",
      "  [False False False  True]\n",
      "  [False False False  True]\n",
      "  [False False False  True]\n",
      "  [False False False  True]\n",
      "  [False False False  True]\n",
      "  [False False False  True]\n",
      "  [False False False  True]\n",
      "  [False False False  True]\n",
      "  [False False False  True]]]\n"
     ]
    }
   ],
   "source": [
    "import gymnasium as gym\n",
    "env = gym.make(\"MinAtar/Breakout-v1\")\n",
    "\n",
    "\n",
    "# Sample observation from the environment \n",
    "sample_observation = env.reset()[0]\n",
    "#sample_observation = np.random.randint(2, size=(10, 10, 4))\n",
    "\n",
    "# Original box observation (before any transformation)\n",
    "print(\"Original Box Observation:\")\n",
    "print(sample_observation[:2])"
   ]
  },
  {
   "cell_type": "code",
   "execution_count": 12,
   "metadata": {},
   "outputs": [
    {
     "name": "stdout",
     "output_type": "stream",
     "text": [
      "\n",
      "Binary Grid:\n",
      "[[[0 0 0 0]\n",
      "  [0 0 0 0]\n",
      "  [0 0 0 0]\n",
      "  [0 0 0 0]\n",
      "  [0 0 0 0]\n",
      "  [0 0 0 0]\n",
      "  [0 0 0 0]\n",
      "  [0 0 0 0]\n",
      "  [0 0 0 0]\n",
      "  [0 0 0 0]]\n",
      "\n",
      " [[0 0 0 1]\n",
      "  [0 0 0 1]\n",
      "  [0 0 0 1]\n",
      "  [0 0 0 1]\n",
      "  [0 0 0 1]\n",
      "  [0 0 0 1]\n",
      "  [0 0 0 1]\n",
      "  [0 0 0 1]\n",
      "  [0 0 0 1]\n",
      "  [0 0 0 1]]]\n"
     ]
    }
   ],
   "source": [
    "# Convert to binary grid\n",
    "binary_grid = convert_box_to_grid(sample_observation)\n",
    "print(\"\\nBinary Grid:\")\n",
    "print(binary_grid[:2])"
   ]
  },
  {
   "cell_type": "code",
   "execution_count": 13,
   "metadata": {},
   "outputs": [
    {
     "name": "stdout",
     "output_type": "stream",
     "text": [
      "\n",
      "Analog Bits Grid:\n",
      "[[[-1. -1. -1. -1.]\n",
      "  [-1. -1. -1. -1.]\n",
      "  [-1. -1. -1. -1.]\n",
      "  [-1. -1. -1. -1.]\n",
      "  [-1. -1. -1. -1.]\n",
      "  [-1. -1. -1. -1.]\n",
      "  [-1. -1. -1. -1.]\n",
      "  [-1. -1. -1. -1.]\n",
      "  [-1. -1. -1. -1.]\n",
      "  [-1. -1. -1. -1.]]\n",
      "\n",
      " [[-1. -1. -1.  1.]\n",
      "  [-1. -1. -1.  1.]\n",
      "  [-1. -1. -1.  1.]\n",
      "  [-1. -1. -1.  1.]\n",
      "  [-1. -1. -1.  1.]\n",
      "  [-1. -1. -1.  1.]\n",
      "  [-1. -1. -1.  1.]\n",
      "  [-1. -1. -1.  1.]\n",
      "  [-1. -1. -1.  1.]\n",
      "  [-1. -1. -1.  1.]]]\n"
     ]
    }
   ],
   "source": [
    "# Convert to analog bits\n",
    "analog_bits = binbox2analog_bit(sample_observation)\n",
    "print(\"\\nAnalog Bits Grid:\")\n",
    "print(analog_bits[:2])"
   ]
  }
 ],
 "metadata": {
  "kernelspec": {
   "display_name": "Python 3",
   "language": "python",
   "name": "python3"
  },
  "language_info": {
   "codemirror_mode": {
    "name": "ipython",
    "version": 3
   },
   "file_extension": ".py",
   "mimetype": "text/x-python",
   "name": "python",
   "nbconvert_exporter": "python",
   "pygments_lexer": "ipython3",
   "version": "3.10.6"
  }
 },
 "nbformat": 4,
 "nbformat_minor": 2
}
